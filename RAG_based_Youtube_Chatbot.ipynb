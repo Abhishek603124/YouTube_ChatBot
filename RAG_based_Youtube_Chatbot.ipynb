{
  "nbformat": 4,
  "nbformat_minor": 0,
  "metadata": {
    "colab": {
      "provenance": [],
      "authorship_tag": "ABX9TyPb+Xzuf+D4GigXKDClbxMR",
      "include_colab_link": true
    },
    "kernelspec": {
      "name": "python3",
      "display_name": "Python 3"
    },
    "language_info": {
      "name": "python"
    }
  },
  "cells": [
    {
      "cell_type": "markdown",
      "metadata": {
        "id": "view-in-github",
        "colab_type": "text"
      },
      "source": [
        "<a href=\"https://colab.research.google.com/github/Abhishek603124/YouTube_ChatBot/blob/main/RAG_based_Youtube_Chatbot.ipynb\" target=\"_parent\"><img src=\"https://colab.research.google.com/assets/colab-badge.svg\" alt=\"Open In Colab\"/></a>"
      ]
    },
    {
      "cell_type": "code",
      "source": [
        "!pip install -q youtube-transcript-api \\\n",
        "               langchain-community \\\n",
        "               langchain-huggingface \\\n",
        "               faiss-cpu \\\n",
        "               sentence-transformers \\\n",
        "               transformers \\\n",
        "               python-dotenv\n"
      ],
      "metadata": {
        "id": "siUHl9vkyMVG"
      },
      "execution_count": 31,
      "outputs": []
    },
    {
      "cell_type": "code",
      "source": [
        "from youtube_transcript_api import YouTubeTranscriptApi, TranscriptsDisabled\n",
        "from langchain.text_splitter import RecursiveCharacterTextSplitter\n",
        "from langchain_community.vectorstores import FAISS\n",
        "from langchain_core.prompts import PromptTemplate\n",
        "from langchain_community.embeddings import HuggingFaceEmbeddings\n",
        "from langchain_huggingface import ChatHuggingFace, HuggingFaceEndpoint\n"
      ],
      "metadata": {
        "id": "zixVkjIVyb9f"
      },
      "execution_count": 32,
      "outputs": []
    },
    {
      "cell_type": "markdown",
      "source": [
        "# Step1A-Indexing(Document Ingestion)"
      ],
      "metadata": {
        "id": "VuHjuPpQyzGe"
      }
    },
    {
      "cell_type": "code",
      "source": [
        "video_id = \"Gfr50f6ZBvo\" # only the ID, not full URL\n",
        "try:\n",
        "    # If you don’t care which language, this returns the “best” one\n",
        "    transcript_list = YouTubeTranscriptApi.get_transcript(video_id, languages=[\"en\"])\n",
        "\n",
        "    # Flatten it to plain text\n",
        "    transcript = \" \".join(chunk[\"text\"] for chunk in transcript_list)\n",
        "    trimmed_transcript = transcript[:1000]\n",
        "    print(trimmed_transcript)\n",
        "\n",
        "except TranscriptsDisabled:\n",
        "    print(\"No captions available for this video.\")"
      ],
      "metadata": {
        "colab": {
          "base_uri": "https://localhost:8080/"
        },
        "id": "upOH9o5ZyxMd",
        "outputId": "b540b620-06de-4a89-fe0a-1b561d63b678"
      },
      "execution_count": 91,
      "outputs": [
        {
          "output_type": "stream",
          "name": "stdout",
          "text": [
            "the following is a conversation with demus hasabis ceo and co-founder of deepmind a company that has published and builds some of the most incredible artificial intelligence systems in the history of computing including alfred zero that learned all by itself to play the game of gold better than any human in the world and alpha fold two that solved protein folding both tasks considered nearly impossible for a very long time demus is widely considered to be one of the most brilliant and impactful humans in the history of artificial intelligence and science and engineering in general this was truly an honor and a pleasure for me to finally sit down with him for this conversation and i'm sure we will talk many times again in the future this is the lex friedman podcast to support it please check out our sponsors in the description and now dear friends here's demis hassabis let's start with a bit of a personal question am i an ai program you wrote to interview people until i get good enough \n"
          ]
        }
      ]
    },
    {
      "cell_type": "code",
      "source": [
        "trimmed_transcript_list = transcript_list[:50]\n",
        "trimmed_transcript_list"
      ],
      "metadata": {
        "colab": {
          "base_uri": "https://localhost:8080/"
        },
        "id": "UTxfoqjC0b_E",
        "outputId": "855914c6-1ae3-4e5f-a314-8ca4eb9afa6d"
      },
      "execution_count": 92,
      "outputs": [
        {
          "output_type": "execute_result",
          "data": {
            "text/plain": [
              "[{'text': 'the following is a conversation with',\n",
              "  'start': 0.08,\n",
              "  'duration': 3.44},\n",
              " {'text': 'demus hasabis', 'start': 1.76, 'duration': 4.96},\n",
              " {'text': 'ceo and co-founder of deepmind', 'start': 3.52, 'duration': 5.119},\n",
              " {'text': 'a company that has published and builds',\n",
              "  'start': 6.72,\n",
              "  'duration': 4.48},\n",
              " {'text': 'some of the most incredible artificial',\n",
              "  'start': 8.639,\n",
              "  'duration': 4.561},\n",
              " {'text': 'intelligence systems in the history of',\n",
              "  'start': 11.2,\n",
              "  'duration': 4.8},\n",
              " {'text': 'computing including alfred zero that',\n",
              "  'start': 13.2,\n",
              "  'duration': 3.68},\n",
              " {'text': 'learned', 'start': 16.0, 'duration': 2.96},\n",
              " {'text': 'all by itself to play the game of gold',\n",
              "  'start': 16.88,\n",
              "  'duration': 4.559},\n",
              " {'text': 'better than any human in the world and',\n",
              "  'start': 18.96,\n",
              "  'duration': 5.6},\n",
              " {'text': 'alpha fold two that solved protein',\n",
              "  'start': 21.439,\n",
              "  'duration': 4.241},\n",
              " {'text': 'folding', 'start': 24.56, 'duration': 4.16},\n",
              " {'text': 'both tasks considered nearly impossible',\n",
              "  'start': 25.68,\n",
              "  'duration': 5.439},\n",
              " {'text': 'for a very long time', 'start': 28.72, 'duration': 4.4},\n",
              " {'text': 'demus is widely considered to be one of',\n",
              "  'start': 31.119,\n",
              "  'duration': 4.481},\n",
              " {'text': 'the most brilliant and impactful humans',\n",
              "  'start': 33.12,\n",
              "  'duration': 4.0},\n",
              " {'text': 'in the history of artificial', 'start': 35.6, 'duration': 4.24},\n",
              " {'text': 'intelligence and science and engineering',\n",
              "  'start': 37.12,\n",
              "  'duration': 4.0},\n",
              " {'text': 'in general', 'start': 39.84, 'duration': 3.92},\n",
              " {'text': 'this was truly an honor and a pleasure',\n",
              "  'start': 41.12,\n",
              "  'duration': 4.959},\n",
              " {'text': 'for me to finally sit down with him for',\n",
              "  'start': 43.76,\n",
              "  'duration': 4.799},\n",
              " {'text': \"this conversation and i'm sure we will\",\n",
              "  'start': 46.079,\n",
              "  'duration': 5.361},\n",
              " {'text': 'talk many times again in the future',\n",
              "  'start': 48.559,\n",
              "  'duration': 4.721},\n",
              " {'text': 'this is the lex friedman podcast to',\n",
              "  'start': 51.44,\n",
              "  'duration': 4.0},\n",
              " {'text': 'support it please check out our sponsors',\n",
              "  'start': 53.28,\n",
              "  'duration': 4.959},\n",
              " {'text': 'in the description and now dear friends',\n",
              "  'start': 55.44,\n",
              "  'duration': 4.16},\n",
              " {'text': \"here's demis\", 'start': 58.239, 'duration': 3.201},\n",
              " {'text': 'hassabis', 'start': 59.6, 'duration': 3.36},\n",
              " {'text': \"let's start with a bit of a personal\",\n",
              "  'start': 61.44,\n",
              "  'duration': 2.48},\n",
              " {'text': 'question', 'start': 62.96, 'duration': 3.839},\n",
              " {'text': 'am i an ai program you wrote to', 'start': 63.92, 'duration': 4.8},\n",
              " {'text': 'interview people until i get good enough',\n",
              "  'start': 66.799,\n",
              "  'duration': 4.161},\n",
              " {'text': 'to interview you', 'start': 68.72, 'duration': 4.24},\n",
              " {'text': \"well i'll be impressed if if you were\",\n",
              "  'start': 70.96,\n",
              "  'duration': 3.839},\n",
              " {'text': \"i'd be impressed by myself if you were i\",\n",
              "  'start': 72.96,\n",
              "  'duration': 3.44},\n",
              " {'text': \"don't think we're quite up to that yet\",\n",
              "  'start': 74.799,\n",
              "  'duration': 3.921},\n",
              " {'text': \"but uh maybe you're from the future lex\",\n",
              "  'start': 76.4,\n",
              "  'duration': 4.48},\n",
              " {'text': 'if you did would you tell me is that is',\n",
              "  'start': 78.72,\n",
              "  'duration': 3.84},\n",
              " {'text': 'that a good thing to tell a language',\n",
              "  'start': 80.88,\n",
              "  'duration': 4.08},\n",
              " {'text': \"model that's tasked with interviewing\",\n",
              "  'start': 82.56,\n",
              "  'duration': 5.199},\n",
              " {'text': \"that it is in fact um ai maybe we're in\",\n",
              "  'start': 84.96,\n",
              "  'duration': 5.28},\n",
              " {'text': 'a kind of meta turing test uh probably',\n",
              "  'start': 87.759,\n",
              "  'duration': 4.081},\n",
              " {'text': 'probably it would be a good idea not to',\n",
              "  'start': 90.24,\n",
              "  'duration': 2.96},\n",
              " {'text': \"tell you so it doesn't change your\",\n",
              "  'start': 91.84,\n",
              "  'duration': 2.88},\n",
              " {'text': 'behavior right this is a kind of', 'start': 93.2, 'duration': 3.2},\n",
              " {'text': 'heisenberg uncertainty principle',\n",
              "  'start': 94.72,\n",
              "  'duration': 3.359},\n",
              " {'text': 'situation if i told you you behave',\n",
              "  'start': 96.4,\n",
              "  'duration': 3.12},\n",
              " {'text': \"differently yeah maybe that's what's\",\n",
              "  'start': 98.079,\n",
              "  'duration': 3.201},\n",
              " {'text': 'happening with us of course this is a',\n",
              "  'start': 99.52,\n",
              "  'duration': 4.0},\n",
              " {'text': 'benchmark from the future where they',\n",
              "  'start': 101.28,\n",
              "  'duration': 6.56}]"
            ]
          },
          "metadata": {},
          "execution_count": 92
        }
      ]
    },
    {
      "cell_type": "markdown",
      "source": [
        "# Step1B-Indexing (Text Splitting)"
      ],
      "metadata": {
        "id": "3L4Uf8Zm1ASC"
      }
    },
    {
      "cell_type": "code",
      "source": [
        "splitter = RecursiveCharacterTextSplitter(chunk_size=1000,chunk_overlap=150)\n",
        "chunks = splitter.create_documents([transcript])"
      ],
      "metadata": {
        "id": "FMcXRMDK0kYP"
      },
      "execution_count": 66,
      "outputs": []
    },
    {
      "cell_type": "code",
      "source": [
        "len(chunks)"
      ],
      "metadata": {
        "colab": {
          "base_uri": "https://localhost:8080/"
        },
        "id": "5t8hh0e51mpY",
        "outputId": "0b896ee2-7f27-4a11-b2b8-cbdd8a1a671d"
      },
      "execution_count": 67,
      "outputs": [
        {
          "output_type": "execute_result",
          "data": {
            "text/plain": [
              "158"
            ]
          },
          "metadata": {},
          "execution_count": 67
        }
      ]
    },
    {
      "cell_type": "code",
      "source": [
        "chunks[0]"
      ],
      "metadata": {
        "colab": {
          "base_uri": "https://localhost:8080/"
        },
        "id": "9hEW4wu11pCJ",
        "outputId": "23b4531d-3bf1-430c-f43b-0e683ab87017"
      },
      "execution_count": 68,
      "outputs": [
        {
          "output_type": "execute_result",
          "data": {
            "text/plain": [
              "Document(metadata={}, page_content=\"the following is a conversation with demus hasabis ceo and co-founder of deepmind a company that has published and builds some of the most incredible artificial intelligence systems in the history of computing including alfred zero that learned all by itself to play the game of gold better than any human in the world and alpha fold two that solved protein folding both tasks considered nearly impossible for a very long time demus is widely considered to be one of the most brilliant and impactful humans in the history of artificial intelligence and science and engineering in general this was truly an honor and a pleasure for me to finally sit down with him for this conversation and i'm sure we will talk many times again in the future this is the lex friedman podcast to support it please check out our sponsors in the description and now dear friends here's demis hassabis let's start with a bit of a personal question am i an ai program you wrote to interview people until i get good enough\")"
            ]
          },
          "metadata": {},
          "execution_count": 68
        }
      ]
    },
    {
      "cell_type": "markdown",
      "source": [
        "# Step 1c & 1d - Indexing (Embedding Generation and Storing in Vector Store)\n",
        "\n"
      ],
      "metadata": {
        "id": "NX3HQCwu2iUC"
      }
    },
    {
      "cell_type": "code",
      "source": [
        "embeddings = HuggingFaceEmbeddings(model_name=\"sentence-transformers/all-MiniLM-L6-v2\")"
      ],
      "metadata": {
        "id": "Yew7KJZo1xJf"
      },
      "execution_count": 69,
      "outputs": []
    },
    {
      "cell_type": "code",
      "source": [
        "vector_store = FAISS.from_documents(chunks, embeddings)"
      ],
      "metadata": {
        "id": "vkffwJ8-3Drl"
      },
      "execution_count": 70,
      "outputs": []
    },
    {
      "cell_type": "code",
      "source": [
        "vector_store.index_to_docstore_id"
      ],
      "metadata": {
        "colab": {
          "base_uri": "https://localhost:8080/"
        },
        "id": "uVgCMwR93XeM",
        "outputId": "d89f1cf8-873f-4d5f-fdde-4d5f9cd049b7"
      },
      "execution_count": 71,
      "outputs": [
        {
          "output_type": "execute_result",
          "data": {
            "text/plain": [
              "{0: 'c0e4dd4b-db0d-45fe-a372-4996b270f619',\n",
              " 1: '9639c855-100f-48ac-bb74-4a28bbe32a44',\n",
              " 2: '14f7a30e-b7cf-471a-8e93-96020a77b5dd',\n",
              " 3: '17da1df1-77ba-4401-abe7-24ad53175fb1',\n",
              " 4: '1052f1aa-cba9-47dc-9acd-575f64e9c772',\n",
              " 5: '416e09a3-aa15-47f9-8654-7a00ba7ba25c',\n",
              " 6: '605c769c-92c2-4b3e-9edf-44e5003b607c',\n",
              " 7: 'c3b683ef-7b54-40ea-8a1b-44d79dcbb3d3',\n",
              " 8: 'cd835152-8125-4346-8842-6b1372b0ead7',\n",
              " 9: 'a3bdff42-5085-49d9-8d20-b29b81076052',\n",
              " 10: '54c5ef3b-b66a-4421-b800-34e72e5ae8a1',\n",
              " 11: '3d895f06-fbd7-4c3e-8a08-b1c219d7d146',\n",
              " 12: '8ae56fce-c210-4e25-98e7-ba4fa266e36e',\n",
              " 13: '97296013-7fa4-4b57-b514-fc26a852677f',\n",
              " 14: '47fbfd51-8d80-4925-b71b-3719d1f88f10',\n",
              " 15: '4eea2817-b186-4aaf-8e74-686745485c6a',\n",
              " 16: '28324842-831a-4f95-9cff-2965f7b86f60',\n",
              " 17: 'def96075-ab7e-43db-a1e5-79a82bdc6cd9',\n",
              " 18: '465d6960-e088-44a2-9af4-d5c6a4b780e9',\n",
              " 19: '940b5a53-3743-4e66-8f76-4c5eb52fda19',\n",
              " 20: 'f9f51b96-2bf5-4061-9739-358db62f3d9e',\n",
              " 21: '5ccf9b27-b1d5-4e81-a91e-180e3c576540',\n",
              " 22: '744fe97a-65fd-4393-8495-4cc6940e45cd',\n",
              " 23: 'a568bc06-c9fd-4374-86a6-c8a4b4f75039',\n",
              " 24: '0bf1b936-80be-47d4-885e-72990116c881',\n",
              " 25: 'd42410ef-5b3f-4268-9fbc-0dd8f7b8349f',\n",
              " 26: 'f64b8bab-d6f9-4d87-b473-167b782891dd',\n",
              " 27: '4410505c-4fa1-40de-892a-63b02023298d',\n",
              " 28: '4851b443-09ce-4a70-ae5d-d33ae11d6c18',\n",
              " 29: '74ac401d-a013-470b-8102-298c54a03ea2',\n",
              " 30: 'f8a1c5f1-c88a-431d-8461-c52ab088e517',\n",
              " 31: '03c8ab03-c135-4e21-bb8d-6829d7e89057',\n",
              " 32: '00bda925-c3c6-4f3e-8c91-9352e729b0f4',\n",
              " 33: 'e1ff12dd-9261-4839-8f28-8cc6c76dc661',\n",
              " 34: '611ac905-9940-48d5-8d54-0ffc5d8dfd1e',\n",
              " 35: '21ec7256-609f-4992-bf1c-b6b137d22b53',\n",
              " 36: '9ebf5cd8-9f38-4598-8a5d-50a49a60572b',\n",
              " 37: '69f52f18-d110-4a99-972e-06a64e73ea7f',\n",
              " 38: '61bcd113-37be-441b-a857-800fcef88a00',\n",
              " 39: 'a27831b2-af2a-4fe6-8fef-b17744e6a308',\n",
              " 40: 'e43b0a25-65f1-4463-b91f-7e392a9ac39d',\n",
              " 41: 'dea50620-4288-44a0-af78-54524dfd285a',\n",
              " 42: 'f6ef8e82-9fbe-4bbc-a0e2-cb73a72b73c4',\n",
              " 43: '1501088e-a590-4214-98f8-a446a21cee3f',\n",
              " 44: 'b97f2126-f014-4f8d-9b22-1d94189a8dab',\n",
              " 45: '4bf9a2e9-3b49-458e-bba4-8bdd5e1282d1',\n",
              " 46: 'ee6f7591-26ba-4219-884e-b9c5f09c0225',\n",
              " 47: 'aaba3e6c-8ba8-4590-8cea-35c4b15f842f',\n",
              " 48: 'e349f434-8fac-4fdc-b1a7-4a4c73592fb0',\n",
              " 49: '0c7e8168-90ef-4aa3-a108-7da3f809fe6f',\n",
              " 50: '57dd8755-50e8-4f17-9cdd-8a0c341aeb60',\n",
              " 51: '11bb2cc4-120d-4cfd-9c46-ca81a67dcd22',\n",
              " 52: '7cd944e3-b568-4473-a754-4826ec6b5e59',\n",
              " 53: 'c447b649-74af-4d8e-b2de-8c5c3a3bddb1',\n",
              " 54: '22ffa904-3674-4d25-a4f8-19bf0d5489e0',\n",
              " 55: '04bbb5f3-6a2c-486c-a7d2-53626f00c3d6',\n",
              " 56: '8cbdf4ee-23f3-4970-ab65-2920b7854e5c',\n",
              " 57: '9d0b0a0c-3809-4bf9-a0c9-fbe5a81ac3f6',\n",
              " 58: 'de1c7f0e-e96c-4671-8d40-880105da62db',\n",
              " 59: 'a180d78f-f2bf-44a2-b696-124cbb79ef13',\n",
              " 60: '10d1aa18-a041-4dcc-9017-1d3c3c527694',\n",
              " 61: '23ad2629-5be8-4e4b-9ead-0042c75582ba',\n",
              " 62: '575cbc7e-cc79-4efd-af15-e25ca30267a1',\n",
              " 63: '8a2841f1-4b8d-4f0a-8af6-ab3664214530',\n",
              " 64: '00092f30-c374-4560-94a6-777a8a60bd7d',\n",
              " 65: '869f43a4-43de-4252-9045-ca33afb07904',\n",
              " 66: '1a2198da-6985-4ade-8aab-7b08f34393e9',\n",
              " 67: 'a6f9cff9-1840-4c73-b863-847e6e323b36',\n",
              " 68: 'f0d6076f-f619-4691-8bc2-f00b8a48ae73',\n",
              " 69: '7ac92703-a3f9-454f-84c0-e62e35bc21ad',\n",
              " 70: 'eebaaaa5-4648-4216-b928-9543a0e74ec6',\n",
              " 71: '5545b75f-52c7-471c-a310-a4f903f79b21',\n",
              " 72: '762960ab-b1c9-4a73-a7ce-880dd5933a88',\n",
              " 73: '9e240591-3356-46c7-bd10-f610f1a5b020',\n",
              " 74: 'c9219241-9626-412f-b630-93f5b5af8949',\n",
              " 75: 'f9c5a324-52bd-434a-8aaf-e4c8a9256828',\n",
              " 76: 'bec5f42d-ab98-4cb1-a6fc-00e47dec8e22',\n",
              " 77: '2d4fce56-f564-43e7-8cda-68065fb9b711',\n",
              " 78: '4ccb2e7c-752e-4f1f-9245-d1d79ddf2e5c',\n",
              " 79: '2fadab45-0413-49aa-ae5a-06b159556892',\n",
              " 80: '76bac886-db87-4222-afd7-cb66a3e9360f',\n",
              " 81: 'efa86116-2664-4694-8cc7-f3e71d9eb4d9',\n",
              " 82: 'a1d8e119-a25c-41e1-87e9-aab249f79aef',\n",
              " 83: 'fcc32e21-223e-45d2-8438-64ef5f560613',\n",
              " 84: 'f8ebaf6c-26d4-40cc-bda1-02a52c485032',\n",
              " 85: '779ec35c-04fb-446d-a10b-747d4e2b26f2',\n",
              " 86: 'b1a06a17-d890-40fc-a6e3-255e9649c9f1',\n",
              " 87: 'f350d0df-faf3-4e98-a86e-9bbead61af37',\n",
              " 88: 'b3408094-6d0e-4a20-9e37-86e859692775',\n",
              " 89: '34548525-b36f-4e12-b755-8fc1d294ac21',\n",
              " 90: '03cd5b0a-f5e8-4c56-a3a6-37807c5603b3',\n",
              " 91: 'd34007a2-448d-4555-bed1-a234a7ee3443',\n",
              " 92: '69f2a6ba-d135-4c4b-9108-9cba9e0bc5e5',\n",
              " 93: '8a5615f3-1813-4cea-a8b9-3b970bc70a08',\n",
              " 94: '9e8d0b6a-3d42-45ab-bfb3-c9e846a341db',\n",
              " 95: '6633afb9-0607-4611-a8f0-f53ef5528e0e',\n",
              " 96: '9403a4cf-c0b3-40d8-8028-3fcced53ad18',\n",
              " 97: 'fc58ff48-951c-4ab3-bc5a-b0e2f36ffc8d',\n",
              " 98: 'a06dea01-508d-46d9-b784-163ea4d24b4c',\n",
              " 99: '3bbd347c-581c-42b8-96fa-487f7fd312ed',\n",
              " 100: 'a0e858f5-5ff5-45cf-a25e-6fb393ea85df',\n",
              " 101: '2412198a-d213-4602-bf8f-0ab44f022f8e',\n",
              " 102: 'a3429980-8ff6-4b17-aa20-150fb77b4f9a',\n",
              " 103: '17fb838d-c62d-4b36-a524-fa2b6c53a1dc',\n",
              " 104: '4cdf4fcd-1740-41de-97d2-da3dbed91551',\n",
              " 105: '458ac2fb-bcc6-4197-80b2-4a4b6f2b8dd2',\n",
              " 106: '6080dc64-f268-4735-8699-2abf8be3200c',\n",
              " 107: '5548c54a-4364-4dbe-b5d7-bc6f9269bf60',\n",
              " 108: '9edb596e-a09c-4469-9265-7fb660a24e74',\n",
              " 109: 'e519dab3-024f-40f4-a5e0-b41718f5bf5b',\n",
              " 110: 'f277fa90-cb74-4fe3-b07f-12bc93c19d3a',\n",
              " 111: 'f446688e-28ff-4ed5-9a8c-ea23cb8069f1',\n",
              " 112: 'e3cb7003-c98b-4235-84ba-553811f9fd8f',\n",
              " 113: 'cc285e1f-630a-45bd-be84-d2029834e2ad',\n",
              " 114: 'd4cbfeb8-3ad1-4676-82b0-0c5b35305fda',\n",
              " 115: '9b0c80a2-1b68-4b6b-b967-fbbfe9f6ecef',\n",
              " 116: '8b3aaf83-851b-4be6-8504-2db0611ef029',\n",
              " 117: '68f4cc80-d7a4-4bbd-bfe5-d796973be1b1',\n",
              " 118: '4a814724-d1e7-4e9f-a2a3-d446194ea8b5',\n",
              " 119: '0be0cbe5-a89d-4108-8d39-f77dd9eb7365',\n",
              " 120: 'cdc256ff-682d-49e3-a0db-f5b0533c1e4a',\n",
              " 121: 'c2bcfbbb-25d5-415e-8bf4-4e8fc6b8f952',\n",
              " 122: 'd4ee75f8-336d-40d1-9adc-d615a19d2462',\n",
              " 123: 'f2b393c3-36e8-47b2-b644-2c7e70a491b5',\n",
              " 124: '8e75a07c-487e-4a20-bfa3-931d1e705441',\n",
              " 125: '01956725-8fed-400b-80ab-0d75fe560112',\n",
              " 126: '661f3709-0240-42d7-b96a-726f323aff5a',\n",
              " 127: '2feaa481-863d-4fb7-b89c-14a2e3ad8047',\n",
              " 128: 'ae086155-380b-4d5e-b07a-58e66474337b',\n",
              " 129: '7d82136b-57fb-4258-8538-95f0218e67a4',\n",
              " 130: 'fe6debdf-02db-4fce-84ef-65019eb32e51',\n",
              " 131: '8e537e94-a301-41b0-abc7-c54ab0f0e68c',\n",
              " 132: '1efff4b7-1825-42f7-aa8a-60ac62ec465c',\n",
              " 133: 'a7ca14f1-988f-4c9c-a61a-7d78340ce2b9',\n",
              " 134: '6a5eceb8-28a1-45b2-8d23-3eee7c045812',\n",
              " 135: '305d6ae6-6c5e-41e2-a960-828297369961',\n",
              " 136: 'f5d6f2ca-d447-4932-b799-7ef64566ae7a',\n",
              " 137: 'f3bf3e38-8211-40e4-9840-84472edf2922',\n",
              " 138: 'b8a2f078-76ba-4ddb-9b7e-6b961ac4a6ee',\n",
              " 139: '98a9a857-7a72-41bc-a733-a92582bdde2d',\n",
              " 140: '3eec60f8-f0ce-4bdb-898f-7cc840316748',\n",
              " 141: 'a20d1b93-2780-4a70-89d1-35736f6a14a4',\n",
              " 142: '922d7f4a-cf33-4f97-9a33-9aa20eb0b38b',\n",
              " 143: '56a14f40-cd85-40c0-87f8-3e9808a4645a',\n",
              " 144: '19b7366b-69d7-4730-8fd1-ca6b32126a49',\n",
              " 145: '4837d8e3-8c0c-4b59-84d4-da6b9de9280d',\n",
              " 146: '8888b58c-a698-4422-bbf9-94828bcf97be',\n",
              " 147: 'dfdc320a-f2bd-4d67-9489-75df274860e7',\n",
              " 148: '749d8e10-999d-47b6-94d4-2e2e8160e6d6',\n",
              " 149: 'ad14b831-6c39-4c45-a440-ceb3b8dd5b29',\n",
              " 150: '9f3d68a9-da62-4dd2-8d31-353679086d6e',\n",
              " 151: '461b33a3-7ef2-496f-a520-e3286eb0175e',\n",
              " 152: '515c247b-5332-4f6b-9e46-b77df902f207',\n",
              " 153: '1338cb4d-6c32-43fa-ab36-0d582ed1055c',\n",
              " 154: 'c15bf2bd-332a-44c9-b48f-97a4d8b8e858',\n",
              " 155: 'fddbdb03-00d3-42a4-85c6-57c67c5b959f',\n",
              " 156: 'c0cc193e-bfc2-4329-9d33-fd2d4d46a131',\n",
              " 157: '776fc0a8-0f4f-4a82-b64f-8fef7b457292'}"
            ]
          },
          "metadata": {},
          "execution_count": 71
        }
      ]
    },
    {
      "cell_type": "code",
      "source": [
        "vector_store.get_by_ids(['c0cc193e-bfc2-4329-9d33-fd2d4d46a131'])"
      ],
      "metadata": {
        "colab": {
          "base_uri": "https://localhost:8080/"
        },
        "id": "Wh9Axebx3iNU",
        "outputId": "93adb28f-225d-4dc6-ec09-bb64b334abf5"
      },
      "execution_count": 72,
      "outputs": [
        {
          "output_type": "execute_result",
          "data": {
            "text/plain": [
              "[Document(id='c0cc193e-bfc2-4329-9d33-fd2d4d46a131', metadata={}, page_content=\"physics of today exactly just here here's glimpses of no like there's a much uh a much more elaborate world or a much simpler world or something a much deeper maybe simpler explanation yes of things right than the standard model of physics which we know doesn't work but we still keep adding to so um and and that's how i think the beginning of an explanation would look and it would start encompassing many of the mysteries that we have wondered about for thousands of years like you know consciousness uh life and gravity all of these things yeah giving us a glimpses of explanations for those things yeah well um damas dear one of the special human beings in this giant puzzle of ours and it's a huge honor that you would take a pause from the bigger puzzle to solve this small puzzle of a conversation with me today it's truly an honor and a pleasure thank you thank you i really enjoyed it thanks lex thanks for listening to this conversation with demas establish to support this podcast please\")]"
            ]
          },
          "metadata": {},
          "execution_count": 72
        }
      ]
    },
    {
      "cell_type": "markdown",
      "source": [
        "# Step 2 - Retrieval"
      ],
      "metadata": {
        "id": "TE2470Vx30j3"
      }
    },
    {
      "cell_type": "code",
      "source": [
        "retriever = vector_store.as_retriever(search_type=\"similarity\", search_kwargs={\"k\": 4})"
      ],
      "metadata": {
        "id": "lRRblYGT3xTk"
      },
      "execution_count": 73,
      "outputs": []
    },
    {
      "cell_type": "code",
      "source": [
        "retriever"
      ],
      "metadata": {
        "colab": {
          "base_uri": "https://localhost:8080/"
        },
        "id": "22MWJ3-s35Xg",
        "outputId": "20a7f219-4d42-406a-a771-afaf0063b27e"
      },
      "execution_count": 74,
      "outputs": [
        {
          "output_type": "execute_result",
          "data": {
            "text/plain": [
              "VectorStoreRetriever(tags=['FAISS', 'HuggingFaceEmbeddings'], vectorstore=<langchain_community.vectorstores.faiss.FAISS object at 0x7929c074e010>, search_kwargs={'k': 4})"
            ]
          },
          "metadata": {},
          "execution_count": 74
        }
      ]
    },
    {
      "cell_type": "code",
      "source": [
        "retriever.invoke('What is deepmind')"
      ],
      "metadata": {
        "colab": {
          "base_uri": "https://localhost:8080/"
        },
        "id": "933LIQNf37qK",
        "outputId": "e2589b31-9916-46e4-9d53-5146c7ba62f4"
      },
      "execution_count": 75,
      "outputs": [
        {
          "output_type": "execute_result",
          "data": {
            "text/plain": [
              "[Document(id='f9f51b96-2bf5-4061-9739-358db62f3d9e', metadata={}, page_content=\"of our vision at the start of deepmind was that we would use games very heavily uh as our main testing ground certainly to begin with um because it's super efficient to use games and also you know it's very easy to have metrics to see how well your systems are improving and what direction your ideas are going in and whether you're making incremental improvements and because those games are often rooted in something that humans did for a long time beforehand there's already a strong set of rules like it's already a damn good benchmark yes it's really good for so many reasons because you've got you've got you've got clear measures of how good humans can be at these things and in some cases like go we've been playing it for thousands of years um and and uh often they have scores or at least win conditions so it's very easy for reward learning systems to get a reward it's very easy to specify what that reward is um and uh also at the end it's easy to you know to test uh externally you\"),\n",
              " Document(id='7ac92703-a3f9-454f-84c0-e62e35bc21ad', metadata={}, page_content=\"right direction so so that that was one reason we pushed so hard on that and that's and just going back to your early question about organization the other big thing that i think we innovated with at deepmind to encourage invention and and uh and innovation was the multi-disciplinary organization we built and we still have today so deepmind originally was a confluence of the of the most cutting-edge knowledge in neuroscience with machine learning engineering and mathematics right and and gaming and then since then we built that out even further so we have philosophers here and and uh by you know ethicists but also other types of scientists physicists and so on um and that's what brings together i tried to build a sort of um new type of bell labs but in this golden era right uh and and a new expression of that um to try and uh foster this incredible sort of innovation machine so talking about the humans in the machine the mind itself is a learning machine with a lots of amazing human\"),\n",
              " Document(id='c0e4dd4b-db0d-45fe-a372-4996b270f619', metadata={}, page_content=\"the following is a conversation with demus hasabis ceo and co-founder of deepmind a company that has published and builds some of the most incredible artificial intelligence systems in the history of computing including alfred zero that learned all by itself to play the game of gold better than any human in the world and alpha fold two that solved protein folding both tasks considered nearly impossible for a very long time demus is widely considered to be one of the most brilliant and impactful humans in the history of artificial intelligence and science and engineering in general this was truly an honor and a pleasure for me to finally sit down with him for this conversation and i'm sure we will talk many times again in the future this is the lex friedman podcast to support it please check out our sponsors in the description and now dear friends here's demis hassabis let's start with a bit of a personal question am i an ai program you wrote to interview people until i get good enough\"),\n",
              " Document(id='8e537e94-a301-41b0-abc7-c54ab0f0e68c', metadata={}, page_content=\"of people and also what's the ethical thing because you can you can make a lot of people happy by creating a meaningful deep experience with a system that's faking it before it makes it yeah and i i don't is a are we the right or who is to say what's the right thing to do should ai always be tools like why why why are we constraining ais to always be tools as opposed to friends yeah i think well i mean these are you know you know fantastic questions and and also critical ones and we've been thinking about this uh since the start of d minor before that because we planned for success and you know how how you know you know however remote that looked like back in 2010 and we've always had sort of these ethical considerations as fundamental at deepmind um and my current thinking on the language models is and and large models is they're not ready we don't understand them well enough yet um and you know in terms of analysis tools and and guard rails what they can and can't do and so on to\")]"
            ]
          },
          "metadata": {},
          "execution_count": 75
        }
      ]
    },
    {
      "cell_type": "markdown",
      "source": [
        "# Step 3 - Augmentation"
      ],
      "metadata": {
        "id": "ZRmN54gi4Bfs"
      }
    },
    {
      "cell_type": "code",
      "source": [
        "from langchain_huggingface import ChatHuggingFace, HuggingFaceEndpoint\n",
        "import os\n",
        "\n",
        "\n",
        "\n",
        "# Use a model that works well via Hugging Face Inference API\n",
        "llm = HuggingFaceEndpoint(\n",
        "    repo_id=\"meta-llama/Meta-Llama-3-8B-Instruct\",  # or any from the table\n",
        "    task=\"text-generation\"\n",
        ")\n",
        "\n",
        "# Wrap for chat-style usage\n",
        "model = ChatHuggingFace(llm=llm)"
      ],
      "metadata": {
        "id": "veALp6Xh3-qH"
      },
      "execution_count": 76,
      "outputs": []
    },
    {
      "cell_type": "code",
      "source": [
        "prompt = PromptTemplate(\n",
        "    input_variables=[\"context\", \"question\"],\n",
        "    template=\"\"\"\n",
        "You are an expert assistant that answers questions based on a YouTube transcript.\n",
        "\n",
        "Here is the transcript chunk:\\n\\n{context}\n",
        "\n",
        "Answer the following question as clearly and specifically as possible:\n",
        "{question}\n",
        "\"\"\"\n",
        ")"
      ],
      "metadata": {
        "id": "fqrPdr864a1A"
      },
      "execution_count": 77,
      "outputs": []
    },
    {
      "cell_type": "code",
      "source": [
        "question          = \"is the topic of nuclear fusion discussed in this video? if yes then what was discussed\"\n",
        "retrieved_docs    = retriever.invoke(question)"
      ],
      "metadata": {
        "id": "Ic5zEixn4fBn"
      },
      "execution_count": 78,
      "outputs": []
    },
    {
      "cell_type": "code",
      "source": [
        "retrieved_docs"
      ],
      "metadata": {
        "colab": {
          "base_uri": "https://localhost:8080/"
        },
        "id": "Ohu_AJc04iHQ",
        "outputId": "308e9dde-87cb-4d25-a30a-a95693a2c015"
      },
      "execution_count": 79,
      "outputs": [
        {
          "output_type": "execute_result",
          "data": {
            "text/plain": [
              "[Document(id='69f2a6ba-d135-4c4b-9108-9cba9e0bc5e5', metadata={}, page_content=\"is we would like to learn that instead and they also had a simulator of these plasma so there were lots of criteria that matched what we we like to to to use so can ai eventually solve nuclear fusion well so we with this problem and we published it in a nature paper last year uh we held the fusion that we held the plasma in specific shapes so actually it's almost like carving the plasma into different shapes and control and hold it there for the record amount of time so um so that's one of the problems of of fusion sort of um solved so i have a controller that's able to no matter the shape uh contain it continue yeah contain it and hold it in structure and there's different shapes that are better for for the energy productions called droplets and and and so on so um so that was huge and now we're looking we're talking to lots of fusion startups to see what's the next problem we can tackle uh in the fusion area so another fascinating place in a paper title pushing the frontiers of\"),\n",
              " Document(id='34548525-b36f-4e12-b755-8fc1d294ac21', metadata={}, page_content=\"help with now fusion has many challenges mostly physics material science and engineering challenges as well to build these massive fusion reactors and contain the plasma and what we try to do whenever we go into a new field to apply our systems is we look for um we talk to domain experts we try and find the best people in the world to collaborate with um in this case in fusion we we collaborated with epfl in switzerland the swiss technical institute who are amazing they have a test reactor that they were willing to let us use which you know i double checked with the team we were going to use carefully and safely i was impressed they managed to persuade them to let us use it and um and it's a it's an amazing test reactor they have there and they try all sorts of pretty crazy experiments on it and um the the the what we tend to look at is if we go into a new domain like fusion what are all the bottleneck problems uh like thinking from first principles you know what are all the\"),\n",
              " Document(id='b3408094-6d0e-4a20-9e37-86e859692775', metadata={}, page_content=\"plasmas to deep reinforcement learning so you uh you're seeking to solve nuclear fusion with deep rl so it's doing control of high temperature plasmas can you explain this work and uh can ai eventually solve nuclear fusion it's been very fun last year or two and very productive because we've been taking off a lot of my dream projects if you like of things that i've collected over the years of areas of science that i would like to i think could be very transformative if we helped accelerate and uh really interesting problems scientific challenges in of themselves this is energy so energy yes exactly so energy and climate so we talked about disease and biology as being one of the biggest places i think ai can help with i think energy and climate uh is another one so maybe they would be my top two um and fusion is one one area i think ai can help with now fusion has many challenges mostly physics material science and engineering challenges as well to build these massive fusion reactors\"),\n",
              " Document(id='03cd5b0a-f5e8-4c56-a3a6-37807c5603b3', metadata={}, page_content=\"at is if we go into a new domain like fusion what are all the bottleneck problems uh like thinking from first principles you know what are all the bottleneck problems that are still stopping fusion working today and then we look at we you know we get a fusion expert to tell us and then we look at those bottlenecks and we look at the ones which ones are amenable to our ai methods today yes right and and and then and would be interesting from a research perspective from our point of view from an ai point of view and that would address one of their bottlenecks and in this case plasma control was was perfect so you know the plasma it's a million degrees celsius something like that it's hotter than the sun and there's obviously no material that can contain it so they have to be containing these magnetic very powerful superconducting magnetic fields but the problem is plasma is pretty unstable as you imagine you're kind of holding a mini sun mini star in a reactor so you know you you kind\")]"
            ]
          },
          "metadata": {},
          "execution_count": 79
        }
      ]
    },
    {
      "cell_type": "code",
      "source": [
        "context_text = \"\\n\\n\".join(doc.page_content for doc in retrieved_docs)\n",
        "context_text"
      ],
      "metadata": {
        "colab": {
          "base_uri": "https://localhost:8080/",
          "height": 161
        },
        "id": "pFs3EzuR4kRk",
        "outputId": "7a9405e2-af34-45fe-cb32-74e90cbc529a"
      },
      "execution_count": 80,
      "outputs": [
        {
          "output_type": "execute_result",
          "data": {
            "text/plain": [
              "\"is we would like to learn that instead and they also had a simulator of these plasma so there were lots of criteria that matched what we we like to to to use so can ai eventually solve nuclear fusion well so we with this problem and we published it in a nature paper last year uh we held the fusion that we held the plasma in specific shapes so actually it's almost like carving the plasma into different shapes and control and hold it there for the record amount of time so um so that's one of the problems of of fusion sort of um solved so i have a controller that's able to no matter the shape uh contain it continue yeah contain it and hold it in structure and there's different shapes that are better for for the energy productions called droplets and and and so on so um so that was huge and now we're looking we're talking to lots of fusion startups to see what's the next problem we can tackle uh in the fusion area so another fascinating place in a paper title pushing the frontiers of\\n\\nhelp with now fusion has many challenges mostly physics material science and engineering challenges as well to build these massive fusion reactors and contain the plasma and what we try to do whenever we go into a new field to apply our systems is we look for um we talk to domain experts we try and find the best people in the world to collaborate with um in this case in fusion we we collaborated with epfl in switzerland the swiss technical institute who are amazing they have a test reactor that they were willing to let us use which you know i double checked with the team we were going to use carefully and safely i was impressed they managed to persuade them to let us use it and um and it's a it's an amazing test reactor they have there and they try all sorts of pretty crazy experiments on it and um the the the what we tend to look at is if we go into a new domain like fusion what are all the bottleneck problems uh like thinking from first principles you know what are all the\\n\\nplasmas to deep reinforcement learning so you uh you're seeking to solve nuclear fusion with deep rl so it's doing control of high temperature plasmas can you explain this work and uh can ai eventually solve nuclear fusion it's been very fun last year or two and very productive because we've been taking off a lot of my dream projects if you like of things that i've collected over the years of areas of science that i would like to i think could be very transformative if we helped accelerate and uh really interesting problems scientific challenges in of themselves this is energy so energy yes exactly so energy and climate so we talked about disease and biology as being one of the biggest places i think ai can help with i think energy and climate uh is another one so maybe they would be my top two um and fusion is one one area i think ai can help with now fusion has many challenges mostly physics material science and engineering challenges as well to build these massive fusion reactors\\n\\nat is if we go into a new domain like fusion what are all the bottleneck problems uh like thinking from first principles you know what are all the bottleneck problems that are still stopping fusion working today and then we look at we you know we get a fusion expert to tell us and then we look at those bottlenecks and we look at the ones which ones are amenable to our ai methods today yes right and and and then and would be interesting from a research perspective from our point of view from an ai point of view and that would address one of their bottlenecks and in this case plasma control was was perfect so you know the plasma it's a million degrees celsius something like that it's hotter than the sun and there's obviously no material that can contain it so they have to be containing these magnetic very powerful superconducting magnetic fields but the problem is plasma is pretty unstable as you imagine you're kind of holding a mini sun mini star in a reactor so you know you you kind\""
            ],
            "application/vnd.google.colaboratory.intrinsic+json": {
              "type": "string"
            }
          },
          "metadata": {},
          "execution_count": 80
        }
      ]
    },
    {
      "cell_type": "code",
      "source": [
        "final_prompt = prompt.invoke({\"context\": context_text, \"question\": question})"
      ],
      "metadata": {
        "id": "xe87h0Tf4nsj"
      },
      "execution_count": 81,
      "outputs": []
    },
    {
      "cell_type": "code",
      "source": [
        "final_prompt"
      ],
      "metadata": {
        "colab": {
          "base_uri": "https://localhost:8080/"
        },
        "id": "3c1JK6Ee4sAw",
        "outputId": "2beaf0c1-c85e-41d5-941e-24bfd1b7b5ec"
      },
      "execution_count": 82,
      "outputs": [
        {
          "output_type": "execute_result",
          "data": {
            "text/plain": [
              "StringPromptValue(text=\"\\nYou are an expert assistant that answers questions based on a YouTube transcript.\\n\\nHere is the transcript chunk:\\n\\nis we would like to learn that instead and they also had a simulator of these plasma so there were lots of criteria that matched what we we like to to to use so can ai eventually solve nuclear fusion well so we with this problem and we published it in a nature paper last year uh we held the fusion that we held the plasma in specific shapes so actually it's almost like carving the plasma into different shapes and control and hold it there for the record amount of time so um so that's one of the problems of of fusion sort of um solved so i have a controller that's able to no matter the shape uh contain it continue yeah contain it and hold it in structure and there's different shapes that are better for for the energy productions called droplets and and and so on so um so that was huge and now we're looking we're talking to lots of fusion startups to see what's the next problem we can tackle uh in the fusion area so another fascinating place in a paper title pushing the frontiers of\\n\\nhelp with now fusion has many challenges mostly physics material science and engineering challenges as well to build these massive fusion reactors and contain the plasma and what we try to do whenever we go into a new field to apply our systems is we look for um we talk to domain experts we try and find the best people in the world to collaborate with um in this case in fusion we we collaborated with epfl in switzerland the swiss technical institute who are amazing they have a test reactor that they were willing to let us use which you know i double checked with the team we were going to use carefully and safely i was impressed they managed to persuade them to let us use it and um and it's a it's an amazing test reactor they have there and they try all sorts of pretty crazy experiments on it and um the the the what we tend to look at is if we go into a new domain like fusion what are all the bottleneck problems uh like thinking from first principles you know what are all the\\n\\nplasmas to deep reinforcement learning so you uh you're seeking to solve nuclear fusion with deep rl so it's doing control of high temperature plasmas can you explain this work and uh can ai eventually solve nuclear fusion it's been very fun last year or two and very productive because we've been taking off a lot of my dream projects if you like of things that i've collected over the years of areas of science that i would like to i think could be very transformative if we helped accelerate and uh really interesting problems scientific challenges in of themselves this is energy so energy yes exactly so energy and climate so we talked about disease and biology as being one of the biggest places i think ai can help with i think energy and climate uh is another one so maybe they would be my top two um and fusion is one one area i think ai can help with now fusion has many challenges mostly physics material science and engineering challenges as well to build these massive fusion reactors\\n\\nat is if we go into a new domain like fusion what are all the bottleneck problems uh like thinking from first principles you know what are all the bottleneck problems that are still stopping fusion working today and then we look at we you know we get a fusion expert to tell us and then we look at those bottlenecks and we look at the ones which ones are amenable to our ai methods today yes right and and and then and would be interesting from a research perspective from our point of view from an ai point of view and that would address one of their bottlenecks and in this case plasma control was was perfect so you know the plasma it's a million degrees celsius something like that it's hotter than the sun and there's obviously no material that can contain it so they have to be containing these magnetic very powerful superconducting magnetic fields but the problem is plasma is pretty unstable as you imagine you're kind of holding a mini sun mini star in a reactor so you know you you kind\\n\\nAnswer the following question as clearly and specifically as possible:\\nis the topic of nuclear fusion discussed in this video? if yes then what was discussed\\n\")"
            ]
          },
          "metadata": {},
          "execution_count": 82
        }
      ]
    },
    {
      "cell_type": "markdown",
      "source": [
        "# Step 4 - Generation"
      ],
      "metadata": {
        "id": "xFg01sfZ4yzn"
      }
    },
    {
      "cell_type": "code",
      "source": [
        "answer = model.invoke(final_prompt)\n",
        "print(answer.content)"
      ],
      "metadata": {
        "colab": {
          "base_uri": "https://localhost:8080/"
        },
        "id": "8KiwsNQ74t7h",
        "outputId": "f8d95538-a680-4349-ccc3-7b019857f1fb"
      },
      "execution_count": 83,
      "outputs": [
        {
          "output_type": "stream",
          "name": "stdout",
          "text": [
            "Yes, the topic of nuclear fusion is discussed in this video. \n",
            "\n",
            "Specifically, the speaker talks about the challenges of achieving nuclear fusion and how they are using Artificial Intelligence (AI) and Deep Reinforcement Learning (DRL) to solve some of these challenges. \n",
            "\n",
            "The discussion includes topics such as:\n",
            "\n",
            "1. The need to hold plasma in specific shapes and control it for a record amount of time, which is a problem in fusion that has been solved.\n",
            "2. The collaboration with EPFL in Switzerland to use their test reactor and work on plasma control.\n",
            "3. The use of AI and DRL to solve the bottleneck problems in fusion, such as plasma control.\n",
            "4. The speaker's personal interest in solving fusion and its potential transformative impact on energy and climate challenges.\n",
            "\n",
            "Overall, the speaker is discussing their work in using AI and DRL to tackle some of the challenges in achieving nuclear fusion.\n"
          ]
        }
      ]
    },
    {
      "cell_type": "markdown",
      "source": [
        "# Building a Chain"
      ],
      "metadata": {
        "id": "QYzoxrV96vLa"
      }
    },
    {
      "cell_type": "code",
      "source": [
        "from langchain_core.runnables import RunnableParallel, RunnablePassthrough, RunnableLambda\n",
        "from langchain_core.output_parsers import StrOutputParser"
      ],
      "metadata": {
        "id": "rsTjztcw42JA"
      },
      "execution_count": 84,
      "outputs": []
    },
    {
      "cell_type": "code",
      "source": [
        "def format_docs(retrieved_docs):\n",
        "  context_text = \"\\n\\n\".join(doc.page_content for doc in retrieved_docs)\n",
        "  return context_text"
      ],
      "metadata": {
        "id": "V1wwUcbo6zUH"
      },
      "execution_count": 85,
      "outputs": []
    },
    {
      "cell_type": "code",
      "source": [
        "parallel_chain = RunnableParallel({\n",
        "    'context': retriever | RunnableLambda(format_docs),\n",
        "    'question': RunnablePassthrough()\n",
        "})"
      ],
      "metadata": {
        "id": "Px1XpQdg63Sw"
      },
      "execution_count": 86,
      "outputs": []
    },
    {
      "cell_type": "code",
      "source": [
        "parallel_chain.invoke('who is Demis')"
      ],
      "metadata": {
        "colab": {
          "base_uri": "https://localhost:8080/"
        },
        "id": "bRM5lMdO65_4",
        "outputId": "795cc326-33bf-4ba5-9961-da2db84a62b7"
      },
      "execution_count": 87,
      "outputs": [
        {
          "output_type": "execute_result",
          "data": {
            "text/plain": [
              "{'context': \"the following is a conversation with demus hasabis ceo and co-founder of deepmind a company that has published and builds some of the most incredible artificial intelligence systems in the history of computing including alfred zero that learned all by itself to play the game of gold better than any human in the world and alpha fold two that solved protein folding both tasks considered nearly impossible for a very long time demus is widely considered to be one of the most brilliant and impactful humans in the history of artificial intelligence and science and engineering in general this was truly an honor and a pleasure for me to finally sit down with him for this conversation and i'm sure we will talk many times again in the future this is the lex friedman podcast to support it please check out our sponsors in the description and now dear friends here's demis hassabis let's start with a bit of a personal question am i an ai program you wrote to interview people until i get good enough\\n\\ncreated us is that why you think we're here to understand how the universe yeah i think my answer to that would be and at least the the life i'm living is to gain and uh to gain and understand the knowledge you know to gain knowledge and understand the universe that's what i think uh i can't see any higher purpose than that if you think back to the classical greeks you know the virtue of gaining knowledge it's uh i think it's that it's one of the few true virtues is to understand um the world around us and the context and humanity better and um and i think if you do that you become more compassionate and more understanding yourself and and more tolerant and all these i think all these other things may flow from that and to me you know understanding the nature of reality that is the biggest question what is going on here is sometimes the colloquial way i say what is really going on here uh it's so mysterious i feel like we're in some huge puzzle and and it's but the world is also seems\\n\\nlike us to all be in a positive sum world and i think for that you have to remove scarcity i don't think that's enough unfortunately to get world peace because there's also other corrupting things like wanting power over people and this kind of stuff which is not necessarily satisfied by by just abundance but i think it will help um and i think uh but i think ultimately ai is not going to be run by any one person or one organization i think it should belong to the world belong to humanity um and i think maybe many there'll be many ways this will happen and ultimately um everybody should have a say in that do you have advice for uh young people in high school and college maybe um if they're interested in ai or interested in having a big impact on the world what they should do to have a career they can be proud of her to have a life they can be proud of i love giving talks to the next generation what i say to them is actually two things i i think the most important things to learn about\\n\\nsystems in the first place ai systems that are not conscious to begin with uh are just tools um until we understand them better and the capabilities better so on that topic just not as the ceo of deep mind just as a human being let me ask you about this one particular anecdotal evidence of the google engineer who made a comment or believed that there's some aspect of a language model the lambda language model that exhibited sentience so you said you believe there might be a responsibility to build systems that are not essential and this experience of a particular engineer i think i'd love to get your general opinion on this kind of thing but i think it will happen more and more and more which uh not when engineers but when people out there that don't have an engineering background start interacting with increasingly intelligent systems we anthropomorphize them they they start to have deep impactful um interactions with us in a way that we miss them yeah when they're gone and we sure\",\n",
              " 'question': 'who is Demis'}"
            ]
          },
          "metadata": {},
          "execution_count": 87
        }
      ]
    },
    {
      "cell_type": "code",
      "source": [
        "parser = StrOutputParser()"
      ],
      "metadata": {
        "id": "e7A2OeLr6_Yw"
      },
      "execution_count": 88,
      "outputs": []
    },
    {
      "cell_type": "code",
      "source": [
        "main_chain = parallel_chain | prompt | model | parser"
      ],
      "metadata": {
        "id": "o8TxoAE8iOOZ"
      },
      "execution_count": 89,
      "outputs": []
    },
    {
      "cell_type": "code",
      "source": [
        "main_chain.invoke('what is the Conversation Going on in the video')"
      ],
      "metadata": {
        "colab": {
          "base_uri": "https://localhost:8080/",
          "height": 197
        },
        "id": "zXFGx2z27DNP",
        "outputId": "1294ffd8-970c-46e7-daee-3e8cd87e3694"
      },
      "execution_count": 90,
      "outputs": [
        {
          "output_type": "execute_result",
          "data": {
            "text/plain": [
              "'The conversation in the video is about the future of Artificial Intelligence (AI), specifically the capabilities of a new AI model called Gato. The conversation delves into various topics, including:\\n\\n1. The limitations of language as a primary modality for human communication and how AI systems can interact with humans in multiple ways, such as through visual, robotic, and body language.\\n2. The potential for AI to understand and predict human thoughts and behaviors, and the possibility of communication with other life forms or consciousness.\\n3. The importance of language in AI systems, particularly in relation to the Turing Test and the ability of machines to mimic human cognitive capabilities.\\n4. The potential for AI to provide explanations for complex mysteries, such as consciousness, life, and gravity, and how these explanations might be more profound than the current understanding of physics.\\n5. The excitement and anticipation for the future of AI and its potential impact on the world.\\n\\nThe conversation is between two individuals, identified as Demas and Lex, who are engaging in a conversation about the latest developments in AI and its potential applications.'"
            ],
            "application/vnd.google.colaboratory.intrinsic+json": {
              "type": "string"
            }
          },
          "metadata": {},
          "execution_count": 90
        }
      ]
    },
    {
      "cell_type": "code",
      "source": [],
      "metadata": {
        "id": "6h5sezz2iTLe"
      },
      "execution_count": null,
      "outputs": []
    }
  ]
}